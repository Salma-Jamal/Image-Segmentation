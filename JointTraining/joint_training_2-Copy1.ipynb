{
 "cells": [
  {
   "cell_type": "code",
   "execution_count": null,
   "id": "8693052d-3c01-4fc4-b78a-35c7101cafc6",
   "metadata": {},
   "outputs": [],
   "source": [
    "!pip install -r requirements.txt"
   ]
  },
  {
   "cell_type": "code",
   "execution_count": null,
   "id": "c0d2b2da-8789-481e-ba7d-cae43c1dae53",
   "metadata": {},
   "outputs": [],
   "source": [
    "# !pip install wandb==0.19.6+computecanada"
   ]
  },
  {
   "cell_type": "code",
   "execution_count": 1,
   "id": "d11ad139-7a66-4798-8e78-e3e693982a29",
   "metadata": {},
   "outputs": [],
   "source": [
    "import torch\n",
    "import torch.nn as nn\n",
    "import torch.nn.functional as F\n",
    "from transformers import Dinov2Model, SegformerForSemanticSegmentation\n",
    "from safetensors.torch import load_file\n",
    "from torch.utils.data import Dataset, DataLoader\n",
    "from torchvision import transforms\n",
    "from torch.utils.checkpoint import checkpoint as torch_checkpoint\n",
    "from torchmetrics import MeanMetric\n",
    "from PIL import Image\n",
    "import os\n",
    "import numpy as np\n",
    "from dataclasses import dataclass\n",
    "import random\n",
    "from tqdm import tqdm\n",
    "import time\n",
    "import wandb"
   ]
  },
  {
   "cell_type": "code",
   "execution_count": 2,
   "id": "3d5abb05-0149-4202-9eac-6470184415d9",
   "metadata": {},
   "outputs": [
    {
     "name": "stderr",
     "output_type": "stream",
     "text": [
      "\u001b[34m\u001b[1mwandb\u001b[0m: \u001b[33mWARNING\u001b[0m If you're specifying your api key in code, ensure this code is not shared publicly.\n",
      "\u001b[34m\u001b[1mwandb\u001b[0m: \u001b[33mWARNING\u001b[0m Consider setting the WANDB_API_KEY environment variable, or running `wandb login` from the command line.\n",
      "\u001b[34m\u001b[1mwandb\u001b[0m: Appending key for api.wandb.ai to your netrc file: /home/saahmed/.netrc\n",
      "\u001b[34m\u001b[1mwandb\u001b[0m: Currently logged in as: \u001b[33msalmagg\u001b[0m (\u001b[33mmy_research_projects\u001b[0m) to \u001b[32mhttps://api.wandb.ai\u001b[0m. Use \u001b[1m`wandb login --relogin`\u001b[0m to force relogin\n"
     ]
    },
    {
     "data": {
      "text/plain": [
       "True"
      ]
     },
     "execution_count": 2,
     "metadata": {},
     "output_type": "execute_result"
    }
   ],
   "source": [
    "wandb.login(key=\"4f8dccbaced16f201316dd4113139739694dfd3b\") "
   ]
  },
  {
   "cell_type": "code",
   "execution_count": 3,
   "id": "5d675209-69e6-4cfd-ae99-e71b704ab168",
   "metadata": {},
   "outputs": [
    {
     "name": "stderr",
     "output_type": "stream",
     "text": [
      "\u001b[34m\u001b[1mwandb\u001b[0m: Using wandb-core as the SDK backend.  Please refer to https://wandb.me/wandb-core for more information.\n"
     ]
    },
    {
     "data": {
      "text/html": [
       "Tracking run with wandb version 0.19.6"
      ],
      "text/plain": [
       "<IPython.core.display.HTML object>"
      ]
     },
     "metadata": {},
     "output_type": "display_data"
    },
    {
     "data": {
      "text/html": [
       "Run data is saved locally in <code>/scratch/saahmed/projects/Image-segmentation/JointTraining/wandb/run-20250414_130056-fh7oskyw</code>"
      ],
      "text/plain": [
       "<IPython.core.display.HTML object>"
      ]
     },
     "metadata": {},
     "output_type": "display_data"
    },
    {
     "data": {
      "text/html": [
       "Syncing run <strong><a href='https://wandb.ai/my_research_projects/joint-training/runs/fh7oskyw' target=\"_blank\">joint-training_experiment2</a></strong> to <a href='https://wandb.ai/my_research_projects/joint-training' target=\"_blank\">Weights & Biases</a> (<a href='https://wandb.me/developer-guide' target=\"_blank\">docs</a>)<br>"
      ],
      "text/plain": [
       "<IPython.core.display.HTML object>"
      ]
     },
     "metadata": {},
     "output_type": "display_data"
    },
    {
     "data": {
      "text/html": [
       " View project at <a href='https://wandb.ai/my_research_projects/joint-training' target=\"_blank\">https://wandb.ai/my_research_projects/joint-training</a>"
      ],
      "text/plain": [
       "<IPython.core.display.HTML object>"
      ]
     },
     "metadata": {},
     "output_type": "display_data"
    },
    {
     "data": {
      "text/html": [
       " View run at <a href='https://wandb.ai/my_research_projects/joint-training/runs/fh7oskyw' target=\"_blank\">https://wandb.ai/my_research_projects/joint-training/runs/fh7oskyw</a>"
      ],
      "text/plain": [
       "<IPython.core.display.HTML object>"
      ]
     },
     "metadata": {},
     "output_type": "display_data"
    },
    {
     "data": {
      "text/html": [
       "<button onClick=\"this.nextSibling.style.display='block';this.style.display='none';\">Display W&B run</button><iframe src='https://wandb.ai/my_research_projects/joint-training/runs/fh7oskyw?jupyter=true' style='border:none;width:100%;height:420px;display:none;'></iframe>"
      ],
      "text/plain": [
       "<wandb.sdk.wandb_run.Run at 0x1511345c3fb0>"
      ]
     },
     "execution_count": 3,
     "metadata": {},
     "output_type": "execute_result"
    }
   ],
   "source": [
    "wandb.init(project=\"joint-training\",\n",
    "          name=\"joint-training_experiment2\")"
   ]
  },
  {
   "cell_type": "code",
   "execution_count": 4,
   "id": "e8f8070e-f7df-4fce-9b30-5d3b83f081cd",
   "metadata": {},
   "outputs": [
    {
     "name": "stderr",
     "output_type": "stream",
     "text": [
      "/tmp/ipykernel_3299395/2775795213.py:37: FutureWarning: You are using `torch.load` with `weights_only=False` (the current default value), which uses the default pickle module implicitly. It is possible to construct malicious pickle data which will execute arbitrary code during unpickling (See https://github.com/pytorch/pytorch/blob/main/SECURITY.md#untrusted-models for more details). In a future release, the default value for `weights_only` will be flipped to `True`. This limits the functions that could be executed during unpickling. Arbitrary objects will no longer be allowed to be loaded via this mode unless they are explicitly allowlisted by the user via `torch.serialization.add_safe_globals`. We recommend you start setting `weights_only=True` for any use case where you don't have full control of the loaded file. Please open an issue on GitHub for any issues related to this experimental feature.\n",
      "  projection_state_dict = torch.load(os.path.join(retrieval_checkpoint, 'projection_head.pth'), map_location=torch.device('cpu'))\n"
     ]
    },
    {
     "data": {
      "text/plain": [
       "<All keys matched successfully>"
      ]
     },
     "execution_count": 4,
     "metadata": {},
     "output_type": "execute_result"
    }
   ],
   "source": [
    "# ----------------------------\n",
    "# Model Definitions\n",
    "# ----------------------------\n",
    "\n",
    "class SimCLR(nn.Module):\n",
    "    def __init__(self, dropout_p=0.5, embedding_size=128, freeze=False, linear_eval=False):\n",
    "        super().__init__()\n",
    "        self.linear_eval = linear_eval\n",
    "        self.dropout_p = dropout_p\n",
    "        self.embedding_size = embedding_size\n",
    "        self.encoder = Dinov2Model.from_pretrained('microsoft/rad-dino')\n",
    "        \n",
    "        if freeze:\n",
    "            for param in self.encoder.parameters():\n",
    "                param.requires_grad = False\n",
    "\n",
    "        self.projection = nn.Sequential(\n",
    "            nn.Linear(768, 256),\n",
    "            nn.Dropout(p=self.dropout_p),\n",
    "            nn.ReLU(),\n",
    "            nn.Linear(256, embedding_size)\n",
    "        )\n",
    "\n",
    "    def forward(self, x):\n",
    "        if not self.linear_eval:\n",
    "            x = torch.cat(x, dim=0)\n",
    "        outputs = self.encoder(x)\n",
    "        encoding = outputs.last_hidden_state[:, 0]\n",
    "        projection = self.projection(encoding)\n",
    "        return projection\n",
    "\n",
    "retrieval_checkpoint = '/home/saahmed/scratch/projects/Image-segmentation/retrieval/checkpoints/simclr_rad-dino_pos-pairs_aug-pairs_epochs100/best_model/'\n",
    "\n",
    "retrieval_model = SimCLR(dropout_p=0.3, embedding_size=128, freeze=False, linear_eval=True)\n",
    "encoder_state_dict = load_file(os.path.join(retrieval_checkpoint, 'model.safetensors'))\n",
    "retrieval_model.encoder.load_state_dict(encoder_state_dict)\n",
    "projection_state_dict = torch.load(os.path.join(retrieval_checkpoint, 'projection_head.pth'), map_location=torch.device('cpu'))\n",
    "retrieval_model.projection.load_state_dict(projection_state_dict)"
   ]
  },
  {
   "cell_type": "code",
   "execution_count": 5,
   "id": "6d83b68d-37c5-4326-9cf9-18ab7f9cbee5",
   "metadata": {},
   "outputs": [],
   "source": [
    "class JointSegmentationModel(nn.Module):\n",
    "    def __init__(self, base_model, composite_in_channels=11):\n",
    "        super().__init__()\n",
    "        # Map composite input channels to 3 channels expected by segformer\n",
    "        self.input_adapter = nn.Conv2d(composite_in_channels, 3, kernel_size=1)\n",
    "        self.base_model = base_model\n",
    "\n",
    "    def forward(self, x):\n",
    "        x = self.input_adapter(x)\n",
    "        outputs = self.base_model(pixel_values=x, return_dict=True)\n",
    "        # Upsample logits to match input resolution\n",
    "        logits = F.interpolate(outputs[\"logits\"], size=x.shape[-2:], mode=\"bilinear\", align_corners=False)\n",
    "        return logits\n",
    "\n",
    "def dice_coef_loss(predictions, ground_truths, num_classes=4, dims=(1, 2), smooth=1e-8):\n",
    "    ground_truth_oh = F.one_hot(ground_truths, num_classes=num_classes)\n",
    "    prediction_norm = F.softmax(predictions, dim=1).permute(0, 2, 3, 1)\n",
    "    intersection = (prediction_norm * ground_truth_oh).sum(dim=dims)\n",
    "    summation = prediction_norm.sum(dim=dims) + ground_truth_oh.sum(dim=dims)\n",
    "    dice = (2.0 * intersection + smooth) / (summation + smooth)\n",
    "    dice_mean = dice.mean()\n",
    "    CE = F.cross_entropy(predictions, ground_truths)\n",
    "    return (1.0 - dice_mean) + CE\n",
    "\n",
    "def differentiable_top2(similarity, tau=1.0):\n",
    "    weights1 = F.gumbel_softmax(similarity, tau=tau, hard=True)\n",
    "    B, N = similarity.shape\n",
    "    masked_similarity = similarity.clone()\n",
    "    indices = weights1.argmax(dim=-1, keepdim=True)\n",
    "    for i in range(B):\n",
    "        masked_similarity[i, indices[i]] = float('-inf')\n",
    "    weights2 = F.gumbel_softmax(masked_similarity, tau=tau, hard=True)\n",
    "    return weights1, weights2"
   ]
  },
  {
   "cell_type": "code",
   "execution_count": 44,
   "id": "d74a752e-a74c-480a-8dd6-e3b16d1dca79",
   "metadata": {},
   "outputs": [],
   "source": [
    "class JointTrainingModule(nn.Module):\n",
    "    def __init__(self, retrieval_model, segmentation_model, num_classes=4, lr=1e-4):\n",
    "        super().__init__()\n",
    "        self.retrieval_model = retrieval_model\n",
    "        self.segmentation_model = segmentation_model\n",
    "        self.lr = lr\n",
    "        self.num_classes = num_classes\n",
    "\n",
    "    def forward(self, query_image, gallery_images, gallery_masks):\n",
    "        # Compute query embedding\n",
    "        query_embedding = self.retrieval_model(query_image)\n",
    "        B, N, C, H, W = gallery_images.shape\n",
    "        gallery_images_flat = gallery_images.view(B * N, C, H, W)\n",
    "\n",
    "        gallery_embeddings_list = []\n",
    "        \n",
    "        def compute_embedding(x):\n",
    "            return self.retrieval_model(x)\n",
    "        \n",
    "        print('Calculating Embeddings')\n",
    "        start_time = time.time()\n",
    "        tempbatch_size = 70\n",
    "        for i in range(0, B * N, tempbatch_size):\n",
    "            batch = gallery_images_flat[i:i + tempbatch_size]\n",
    "            emb = torch_checkpoint(compute_embedding, batch, use_reentrant=False)\n",
    "            # emb = self.retrieval_model(batch)\n",
    "            gallery_embeddings_list.append(emb)\n",
    "        print('Finished Calculating Embeddings')\n",
    "        \n",
    "        gallery_embeddings_flat = torch.cat(gallery_embeddings_list, dim=0)\n",
    "        emb_dim = gallery_embeddings_flat.shape[1]\n",
    "        gallery_embeddings = gallery_embeddings_flat.view(B, N, emb_dim)\n",
    "        end_time = time.time()\n",
    "        print(f\"Calculating Embeddings Time: {end_time - start_time:.4f} seconds\\n\")\n",
    "\n",
    "\n",
    "        \n",
    "        print('Calculating similarity')\n",
    "        start_time = time.time()\n",
    "        similarity = F.cosine_similarity(query_embedding.unsqueeze(1), gallery_embeddings, dim=-1)\n",
    "        end_time = time.time()\n",
    "        print('Finished Calculating similarity')\n",
    "        print(f\"Calculating similarity Time: {end_time - start_time:.4f} seconds\\n\")\n",
    "        \n",
    "\n",
    "        print('Calculating differentiable top2')\n",
    "        start_time = time.time()\n",
    "        weights1, weights2 = differentiable_top2(similarity, tau=1.0)\n",
    "        end_time = time.time()\n",
    "        print('Finished Calculating differentiable top2')\n",
    "        print(f\"Calculating differentiable top2 Time: {end_time - start_time:.4f} seconds\\n\")\n",
    "        \n",
    "\n",
    "        print('Calculating einsum')\n",
    "        start_time = time.time()\n",
    "        guide_image1 = torch.einsum('bn,bnchw->bchw', weights1, gallery_images)\n",
    "        guide_image2 = torch.einsum('bn,bnchw->bchw', weights2, gallery_images)\n",
    "        guide_mask1 = torch.einsum('bn,bnhw->bhw', weights1, gallery_masks.float())\n",
    "        guide_mask2 = torch.einsum('bn,bnhw->bhw', weights2, gallery_masks.float())\n",
    "        end_time = time.time()\n",
    "        print('Finished Calculating einsum')\n",
    "        print(f\"Calculating einsum Time: {end_time - start_time:.4f} seconds\\n\")\n",
    "        return guide_image1, guide_image2, guide_mask1, guide_mask2"
   ]
  },
  {
   "cell_type": "code",
   "execution_count": 7,
   "id": "bad432ce-fa7b-4920-9412-7e01b02b55f0",
   "metadata": {},
   "outputs": [],
   "source": [
    "# ## segmentation preparation\n",
    "\n",
    "# Mean_per_channel = [0.15452379, 0.15452379, 0.15452379]\n",
    "# Std_per_channel = [0.17455664 ,0.17455664, 0.17455664]\n",
    "\n",
    "# def segmentation_transforms(is_train, mean, std):\n",
    "#     transforms = []\n",
    "\n",
    "#     if is_train:\n",
    "#         transforms.extend([\n",
    "#             A.HorizontalFlip(p=0.5), A.VerticalFlip(p=0.5),\n",
    "#             A.ShiftScaleRotate(scale_limit=0.12, rotate_limit=0.15, shift_limit=0.12, p=0.5),\n",
    "#             A.RandomBrightnessContrast(p=0.5),\n",
    "#             A.CoarseDropout(max_holes=8, max_height=self.img_size[1]//20, max_width=self.img_size[0]//20, min_holes=5, fill_value=0, mask_fill_value=0, p=0.5)\n",
    "#         ])\n",
    "\n",
    "#     # Preprocess transforms - Normalization and converting to PyTorch tensor format (HWC --> CHW).\n",
    "#     transforms.extend([\n",
    "#             A.Normalize(mean=mean, std=std, always_apply=True),\n",
    "#             ToTensorV2(),  # (H, W, C) --> (C, H, W)\n",
    "#     ])\n",
    "#     return A.Compose(transforms)\n",
    "    \n",
    "# segmenent_transforms = segmentation_transforms(Mean_per_channel,Std_per_channel)\n",
    "\n",
    "\n",
    "# def load_file_segmenent(file_path, depth=0):\n",
    "#     file = cv2.imread(file_path, depth)\n",
    "#     if depth == cv2.IMREAD_COLOR:\n",
    "#         file = file[:, :, ::-1]\n",
    "#     return cv2.resize(file, ((256,256)), interpolation=cv2.INTER_NEAREST)\n",
    " \n",
    "# #     def __getitem__(self, index):\n",
    "# #         # Load image and mask file.\n",
    "# #         image = self.load_file(self.image_paths[index], depth=cv2.IMREAD_COLOR)\n",
    "# #         mask  = self.load_file(self.mask_paths[index],  depth=cv2.IMREAD_GRAYSCALE)\n",
    "# #         # Apply Preprocessing (+ Augmentations) transformations to image-mask pair\n",
    "# #         transformed = self.transforms(image=image, mask=mask)\n",
    "# #         image, mask = transformed[\"image\"], transformed[\"mask\"].to(torch.long)\n",
    "# #         return image, mask"
   ]
  },
  {
   "cell_type": "code",
   "execution_count": 7,
   "id": "e8db852f-1c88-4cf0-853f-793a8d1322ed",
   "metadata": {},
   "outputs": [
    {
     "name": "stderr",
     "output_type": "stream",
     "text": [
      "100%|████████████████████████████████████████████████████████████████████████████████████████████████████████| 1902/1902 [03:24<00:00,  9.29it/s]\n"
     ]
    },
    {
     "name": "stdout",
     "output_type": "stream",
     "text": [
      "Total valid image-mask pairs: 1841\n",
      "Number of training pairs: 1472\n",
      "Number of validation pairs: 369\n"
     ]
    },
    {
     "name": "stderr",
     "output_type": "stream",
     "text": [
      "100%|████████████████████████████████████████████████████████████████████████████████████████████████████████| 1841/1841 [02:03<00:00, 14.96it/s]\n"
     ]
    }
   ],
   "source": [
    "# ----------------------------\n",
    "# Data Preparation\n",
    "# ----------------------------\n",
    "def convert_to_rgb(img):\n",
    "    return img.convert(\"RGB\")\n",
    "    \n",
    "preprocess = transforms.Compose([\n",
    "    transforms.Resize((256, 256)),\n",
    "    transforms.Lambda(convert_to_rgb),\n",
    "    transforms.ToTensor(),\n",
    "])\n",
    "\n",
    "def remap_labels(target, mapping={0: 0, 85: 1, 170: 2, 255: 3}):\n",
    "    remapped_target = torch.zeros_like(target, dtype=torch.long)\n",
    "    for original_label, new_label in mapping.items():\n",
    "        remapped_target[target == original_label] = new_label\n",
    "    return remapped_target\n",
    "\n",
    "# (Paths and file loading logic)\n",
    "image_dir_ed = '/home/saahmed/scratch/projects/Image-segmentation/datasets/ACDC/processed_data/Training/ed/images/'\n",
    "mask_dir_ed = '/home/saahmed/scratch/projects/Image-segmentation/datasets/ACDC/processed_data/Training/ed/masks/'\n",
    "image_dir_es = '/home/saahmed/scratch/projects/Image-segmentation/datasets/ACDC/processed_data/Training/es/images/'\n",
    "mask_dir_es = '/home/saahmed/scratch/projects/Image-segmentation/datasets/ACDC/processed_data/Training/es/masks/'\n",
    "\n",
    "image_filenames = sorted([os.path.join(image_dir_ed, i) for i in os.listdir(image_dir_ed)]) + \\\n",
    "                  sorted([os.path.join(image_dir_es, i) for i in os.listdir(image_dir_es)])\n",
    "mask_filenames = sorted([os.path.join(mask_dir_ed, i) for i in os.listdir(mask_dir_ed)]) + \\\n",
    "                 sorted([os.path.join(mask_dir_es, i) for i in os.listdir(mask_dir_es)])\n",
    "\n",
    "import cv2\n",
    "from sklearn.model_selection import train_test_split\n",
    "from tqdm import tqdm\n",
    "\n",
    "def is_mask_empty(mask):\n",
    "    return np.all(mask == 255)\n",
    "\n",
    "valid_images = []\n",
    "valid_masks = []\n",
    "for img_path, mask_path in tqdm(zip(image_filenames, mask_filenames), total=len(image_filenames)):\n",
    "    if not os.path.exists(mask_path):\n",
    "        continue\n",
    "    mask = cv2.imread(mask_path, cv2.IMREAD_GRAYSCALE)\n",
    "    if mask is None:\n",
    "        continue\n",
    "    if is_mask_empty(mask):\n",
    "        continue\n",
    "    valid_images.append(img_path)\n",
    "    valid_masks.append(mask_path)\n",
    "\n",
    "print(\"Total valid image-mask pairs:\", len(valid_images))\n",
    "\n",
    "train_imgs, val_imgs, train_masks, val_masks = train_test_split(\n",
    "    valid_images, valid_masks, test_size=0.2, random_state=42\n",
    ")\n",
    "print(\"Number of training pairs:\", len(train_imgs))\n",
    "print(\"Number of validation pairs:\", len(val_imgs))\n",
    "\n",
    "# Prepare guide database (we use a subset for demonstration)\n",
    "database_images = []\n",
    "database_masks = []\n",
    "for img, mask in tqdm(zip(valid_images, valid_masks), total=len(valid_images)):\n",
    "    g_img = Image.open(img)\n",
    "    g_mask = Image.open(mask).convert('L')\n",
    "    processed_img = preprocess(g_img)\n",
    "    g_mask = g_mask.resize((256,256), resample=Image.NEAREST)\n",
    "    g_mask = torch.from_numpy(np.array(g_mask)).long()\n",
    "    g_mask = remap_labels(g_mask)\n",
    "    database_images.append(processed_img)\n",
    "    database_masks.append(g_mask)\n",
    "database_images = torch.stack(database_images, dim=0)\n",
    "database_masks = torch.stack(database_masks, dim=0)"
   ]
  },
  {
   "cell_type": "code",
   "execution_count": 8,
   "id": "3b4998c2-8723-426a-b5a4-c03501dfbc23",
   "metadata": {},
   "outputs": [],
   "source": [
    "class JointMedicalDataset(Dataset):\n",
    "    def __init__(self, image_file_names, mask_file_names, database_images, database_masks, image_size=(256, 256)):\n",
    "        self.database_images = database_images\n",
    "        self.database_masks = database_masks\n",
    "        self.image_filenames = image_file_names\n",
    "        self.mask_filenames  = mask_file_names\n",
    "        self.image_size = image_size\n",
    "\n",
    "    def __len__(self):\n",
    "        return len(self.image_filenames)\n",
    "\n",
    "    def __getitem__(self, idx):\n",
    "        query_image_path = self.image_filenames[idx]\n",
    "        query_mask_path = self.mask_filenames[idx]\n",
    "        query_image = Image.open(query_image_path)\n",
    "        query_mask = Image.open(query_mask_path).convert('L')\n",
    "        query_mask = query_mask.resize(self.image_size, resample=Image.NEAREST)\n",
    "        query_image = preprocess(query_image)\n",
    "        query_mask = torch.from_numpy(np.array(query_mask)).long()\n",
    "        query_mask = remap_labels(query_mask)\n",
    "        \n",
    "        return query_image, query_mask, self.database_images, self.database_masks"
   ]
  },
  {
   "cell_type": "code",
   "execution_count": 9,
   "id": "15c6d75f-ff37-405b-a797-6e5286afd098",
   "metadata": {},
   "outputs": [],
   "source": [
    "@dataclass(frozen=True)\n",
    "class Paths:\n",
    "    DATA_TRAIN_IMAGES = train_imgs\n",
    "    DATA_TRAIN_LABELS = train_masks\n",
    "    DATA_VALID_IMAGES = val_imgs\n",
    "    DATA_VALID_LABELS = val_masks\n",
    "    Guide_database_imgs = database_images\n",
    "    Guide_database_masks = database_masks\n",
    "\n",
    "# Create datasets and dataloaders\n",
    "train_ds = JointMedicalDataset(Paths.DATA_TRAIN_IMAGES, Paths.DATA_TRAIN_LABELS,\n",
    "                               Paths.Guide_database_imgs, Paths.Guide_database_masks)\n",
    "valid_ds = JointMedicalDataset(Paths.DATA_VALID_IMAGES, Paths.DATA_VALID_LABELS,\n",
    "                               Paths.Guide_database_imgs, Paths.Guide_database_masks)\n",
    "\n",
    "train_loader = DataLoader(train_ds, batch_size=4, shuffle=True, drop_last=True)\n",
    "valid_loader = DataLoader(valid_ds, batch_size=4, shuffle=False)"
   ]
  },
  {
   "cell_type": "code",
   "execution_count": null,
   "id": "6dff4c2a-65f0-4be5-a9d5-8cb9d44b2386",
   "metadata": {},
   "outputs": [],
   "source": [
    "# ----------------------------\n",
    "# Segmentation Model Setup\n",
    "# ----------------------------\n",
    "ckpt_path = '/scratch/saahmed/projects/Image-segmentation/segmentation/lightning_logs/version_0/checkpoints/ckpt_053-vloss_0.1769_vf1_0.9259.ckpt'\n",
    "checkpoint = torch.load(ckpt_path, map_location=\"cuda:0\")\n",
    "state_dict = checkpoint[\"state_dict\"]\n",
    "new_state_dict = {key.replace(\"model.\", \"\"): value for key, value in state_dict.items()}\n",
    "config = SegformerForSemanticSegmentation.config_class.from_pretrained(\"nvidia/segformer-b4-finetuned-ade-512-512\")\n",
    "config.num_labels = 4\n",
    "segformer_base = SegformerForSemanticSegmentation(config)\n",
    "segformer_base.load_state_dict(new_state_dict)\n",
    "segmentation_model = JointSegmentationModel(segformer_base, composite_in_channels=11)\n"
   ]
  },
  {
   "cell_type": "code",
   "execution_count": null,
   "id": "6ad891af-6952-4f0e-ab12-e3b6897b7597",
   "metadata": {},
   "outputs": [],
   "source": [
    "# ----------------------------\n",
    "# Instantiate Joint Module and Optimizer\n",
    "# ----------------------------\n",
    "joint_module = JointTrainingModule(retrieval_model, segmentation_model, num_classes=4, lr=1e-4)\n",
    "device = torch.device(\"cuda\" if torch.cuda.is_available() else \"cpu\")\n",
    "joint_module.to(device)"
   ]
  },
  {
   "cell_type": "code",
   "execution_count": null,
   "id": "4aa91232-188e-4720-81fa-54c3ad30bc4a",
   "metadata": {},
   "outputs": [],
   "source": [
    "optimizer = torch.optim.Adam(joint_module.parameters(), lr=joint_module.lr)"
   ]
  },
  {
   "cell_type": "code",
   "execution_count": 21,
   "id": "61d8744c-18cf-4fec-b28f-d74c6b3033df",
   "metadata": {},
   "outputs": [],
   "source": [
    "# joint_module.half()  # Convert all parameters to FP16"
   ]
  },
  {
   "cell_type": "code",
   "execution_count": 22,
   "id": "f784e769-2135-4562-89a8-14cff82fe245",
   "metadata": {},
   "outputs": [],
   "source": [
    "# # ----------------------------\n",
    "# # Training and Validation Loops\n",
    "# # ----------------------------\n",
    "\n",
    "# def train_one_epoch(model, dataloader, optimizer, device):\n",
    "#     model.train()\n",
    "#     running_loss = 0.0\n",
    "#     for batch in tqdm(dataloader, desc=\"Training\"):\n",
    "#         query_image, query_mask, gallery_images, gallery_masks = batch\n",
    "#         # Move tensors to device\n",
    "#         query_image = query_image.to(device).half()\n",
    "#         query_mask = query_mask.to(device)\n",
    "#         gallery_images = gallery_images.to(device).half()\n",
    "#         gallery_masks = gallery_masks.to(device)\n",
    "        \n",
    "#         # Retrieve guide images/masks\n",
    "#         guide_image1, guide_image2, guide_mask1, guide_mask2 = model(query_image, gallery_images, gallery_masks)\n",
    "#         # Form composite input: query (3) + guide1 (3) + guide2 (3) + guide_mask1 (1) + guide_mask2 (1) = 11 channels\n",
    "#         composite_input = torch.cat([\n",
    "#             query_image,\n",
    "#             guide_image1,\n",
    "#             guide_image2,\n",
    "#             guide_mask1.unsqueeze(1),\n",
    "#             guide_mask2.unsqueeze(1)\n",
    "#         ], dim=1)\n",
    "#         # Forward pass through segmentation model\n",
    "#         print(f\"Calculating Loss\\n\")\n",
    "        \n",
    "#         start_time = time.time()\n",
    "#         pred_masks = segmentation_model(composite_input) \n",
    "#         pred_masks_fp32 = pred_masks.float()\n",
    "#         loss = dice_coef_loss(pred_masks_fp32, query_mask, num_classes=model.num_classes)\n",
    "#         # loss = dice_coef_loss(pred_masks, query_mask, num_classes=model.num_classes)\n",
    "#         end_time = time.time()\n",
    "        \n",
    "#         print(f\"Calculating Loss Time: {end_time - start_time:.4f} seconds\\n\")\n",
    "        \n",
    "#         print(f\"Running optimizer\\n\")\n",
    "#         start_time = time.time()\n",
    "#         optimizer.zero_grad()\n",
    "#         loss.backward()\n",
    "#         optimizer.step()\n",
    "#         end_time = time.time()\n",
    "#         print(f\"Running optimizer Time: {end_time - start_time:.4f} seconds\\n\")\n",
    "#         running_loss += loss.item() * composite_input.size(0)\n",
    "#         # Clear cache after each batch\n",
    "#         torch.cuda.empty_cache()\n",
    "#         print(f\"Batch Loss: {running_loss}\\n\")   \n",
    "#     epoch_loss = running_loss / len(dataloader.dataset)\n",
    "#     return epoch_loss\n",
    "\n",
    "# def validate(model, dataloader, device):\n",
    "#     model.eval()\n",
    "#     running_loss = 0.0\n",
    "#     with torch.no_grad():\n",
    "#         for batch in tqdm(dataloader, desc=\"Validation\"):\n",
    "#             query_image, query_mask, gallery_images, gallery_masks = batch\n",
    "#             query_image = query_image.to(device).half()\n",
    "#             query_mask = query_mask.to(device)\n",
    "#             gallery_images = gallery_images.to(device).half()\n",
    "#             gallery_masks = gallery_masks.to(device)\n",
    "            \n",
    "#             guide_image1, guide_image2, guide_mask1, guide_mask2 = model(query_image, gallery_images, gallery_masks)\n",
    "#             composite_input = torch.cat([\n",
    "#                 query_image,\n",
    "#                 guide_image1,\n",
    "#                 guide_image2,\n",
    "#                 guide_mask1.unsqueeze(1),\n",
    "#                 guide_mask2.unsqueeze(1)\n",
    "#             ], dim=1)\n",
    "#             pred_masks = segmentation_model(composite_input)\n",
    "#             loss = dice_coef_loss(pred_masks, query_mask, num_classes=model.num_classes)\n",
    "#             running_loss += loss.item() * composite_input.size(0)\n",
    "#     epoch_loss = running_loss / len(dataloader.dataset)\n",
    "#     return epoch_loss"
   ]
  },
  {
   "cell_type": "code",
   "execution_count": null,
   "id": "19a4206d-3ccf-40f8-b18e-90edfbe8a877",
   "metadata": {},
   "outputs": [],
   "source": [
    "\n",
    "def train_one_epoch(model, dataloader, optimizer, device, scaler):\n",
    "    model.train()\n",
    "    running_loss = 0.0\n",
    "    for batch in tqdm(dataloader, desc=\"Training\"):\n",
    "        query_image, query_mask, gallery_images, gallery_masks = batch\n",
    "        # Move tensors to device (no manual half-casting)\n",
    "        query_image = query_image.to(device)\n",
    "        query_mask = query_mask.to(device)\n",
    "        gallery_images = gallery_images.to(device)\n",
    "        gallery_masks = gallery_masks.to(device)\n",
    "        \n",
    "        # Forward pass with autocast\n",
    "        with torch.amp.autocast(device_type='cuda', dtype=torch.float16):\n",
    "            # Retrieve guide images/masks\n",
    "            guide_image1, guide_image2, guide_mask1, guide_mask2 = model(query_image, gallery_images, gallery_masks)\n",
    "            # Form composite input: query (3) + guide1 (3) + guide2 (3) + guide_mask1 (1) + guide_mask2 (1) = 11 channels\n",
    "            composite_input = torch.cat([\n",
    "                query_image,\n",
    "                guide_image1,\n",
    "                guide_image2,\n",
    "                guide_mask1.unsqueeze(1),\n",
    "                guide_mask2.unsqueeze(1)\n",
    "            ], dim=1)\n",
    "            # Forward pass through segmentation model\n",
    "            print(\"Calculating Loss\")\n",
    "            start_time = time.time()\n",
    "            pred_masks = model.segmentation_model(composite_input)\n",
    "            # Optionally, if needed you can convert logits to FP32 here:\n",
    "            # pred_masks = pred_masks.float()\n",
    "            loss = dice_coef_loss(pred_masks, query_mask, num_classes=model.num_classes)\n",
    "            end_time = time.time()\n",
    "            print(f\"Calculating Loss Time: {end_time - start_time:.4f} seconds\\n\")\n",
    "        \n",
    "        print(\"Running optimizer\")\n",
    "        start_time = time.time()\n",
    "        optimizer.zero_grad()\n",
    "        scaler.scale(loss).backward()\n",
    "        scaler.step(optimizer)\n",
    "        scaler.update()\n",
    "        end_time = time.time()\n",
    "        print(f\"Running optimizer Time: {end_time - start_time:.4f} seconds\\n\")\n",
    "        \n",
    "        running_loss += loss.item() * composite_input.size(0)\n",
    "        # Clear cache after each batch\n",
    "        torch.cuda.empty_cache()\n",
    "        \n",
    "        print(\"#######################################\")\n",
    "        print(f'Running Loss: {running_loss},   loss.item: {loss.item():.4f}')\n",
    "        wandb.log({\"running_loss\": running_loss, \"loss.item\": loss.item()})\n",
    "        print(\"#######################################\\n\")\n",
    "        \n",
    "    epoch_loss = running_loss / len(dataloader.dataset)\n",
    "    print(f\"Epoch Loss: {epoch_loss}\")\n",
    "    wandb.log({\"epoch_loss\": epoch_loss})\n",
    "    return epoch_loss\n",
    "\n",
    "def validate(model, dataloader, device):\n",
    "    model.eval()\n",
    "    running_loss = 0.0\n",
    "    with torch.no_grad():\n",
    "        for batch in tqdm(dataloader, desc=\"Validation\"):\n",
    "            query_image, query_mask, gallery_images, gallery_masks = batch\n",
    "            query_image = query_image.to(device)\n",
    "            query_mask = query_mask.to(device)\n",
    "            gallery_images = gallery_images.to(device)\n",
    "            gallery_masks = gallery_masks.to(device)\n",
    "            \n",
    "            with torch.cuda.amp.autocast():\n",
    "                guide_image1, guide_image2, guide_mask1, guide_mask2 = model(query_image, gallery_images, gallery_masks)\n",
    "                composite_input = torch.cat([\n",
    "                    query_image,\n",
    "                    guide_image1,\n",
    "                    guide_image2,\n",
    "                    guide_mask1.unsqueeze(1),\n",
    "                    guide_mask2.unsqueeze(1)\n",
    "                ], dim=1)\n",
    "                pred_masks = model.segmentation_model(composite_input)\n",
    "                loss = dice_coef_loss(pred_masks, query_mask, num_classes=model.num_classes)\n",
    "            running_loss += loss.item() * composite_input.size(0)\n",
    "            print(f'Running Loss: {running_loss},   loss.item: {loss.item()}')\n",
    "            wandb.log({\"valid_loss.item\": loss.item})\n",
    "            wandb.log({\"valid_running_loss\": running_loss})\n",
    "    \n",
    "    epoch_loss = running_loss / len(dataloader.dataset)\n",
    "    print(f'Epoch Valid Loss: {epoch_loss}')\n",
    "    wandb.log({\"valid_epoch_loss\": epoch_loss})\n",
    "    return epoch_loss"
   ]
  },
  {
   "cell_type": "code",
   "execution_count": null,
   "id": "2a25b437-06d4-4956-be9f-230bba774530",
   "metadata": {},
   "outputs": [],
   "source": [
    "# ----------------------------\n",
    "# Run Training\n",
    "# ----------------------------\n",
    "best_valid_loss = float(\"inf\")\n",
    "\n",
    "scaler = torch.amp.GradScaler('cuda', )\n",
    "\n",
    "num_epochs = 50\n",
    "for epoch in range(num_epochs):\n",
    "    train_loss = train_one_epoch(joint_module, train_loader, optimizer, device, scaler)\n",
    "    valid_loss = validate(joint_module, valid_loader, device)\n",
    "    print(f\"Epoch {epoch+1}/{num_epochs} -- Train Loss: {train_loss:.4f}  Valid Loss: {valid_loss:.4f}\")\n",
    "\n",
    "    # Save checkpoint if validation loss improves\n",
    "    if valid_loss < best_valid_loss:\n",
    "        best_valid_loss = valid_loss\n",
    "        checkpoint = {\n",
    "            \"epoch\": epoch + 1,\n",
    "            \"model_state_dict\": joint_module.state_dict(),\n",
    "            \"optimizer_state_dict\": optimizer.state_dict(),\n",
    "            \"valid_loss\": valid_loss,\n",
    "        }\n",
    "        torch.save(checkpoint, f\"best_checkpoint_epoch_{epoch+1}.pth\")\n",
    "        print(f\"Checkpoint saved at epoch {epoch+1} with valid loss {valid_loss:.4f}\")\n"
   ]
  },
  {
   "cell_type": "markdown",
   "id": "55609228-e8e7-470c-b4a4-96a2fda9a76b",
   "metadata": {
    "jp-MarkdownHeadingCollapsed": true
   },
   "source": [
    "# predict"
   ]
  },
  {
   "cell_type": "code",
   "execution_count": 16,
   "id": "70d6978a-d1c4-4e65-8656-95f6d77bb1cf",
   "metadata": {},
   "outputs": [],
   "source": [
    "import torch\n",
    "import torch.nn as nn\n",
    "import torch.nn.functional as F\n",
    "from transformers import Dinov2Model, SegformerForSemanticSegmentation\n",
    "from safetensors.torch import load_file\n",
    "from torch.utils.data import Dataset, DataLoader\n",
    "from torchvision import transforms\n",
    "from torch.utils.checkpoint import checkpoint as torch_checkpoint\n",
    "from torchmetrics import MeanMetric\n",
    "from PIL import Image\n",
    "import os\n",
    "import numpy as np\n",
    "from dataclasses import dataclass\n",
    "import random\n",
    "from tqdm import tqdm\n",
    "import time\n",
    "import wandb\n",
    "import cv2"
   ]
  },
  {
   "cell_type": "code",
   "execution_count": 2,
   "id": "392820c4-b8e7-4dd8-aef3-1b5ad1f2d6ce",
   "metadata": {},
   "outputs": [],
   "source": [
    "class JointSegmentationModel(nn.Module):\n",
    "    def __init__(self, base_model, composite_in_channels=11):\n",
    "        super().__init__()\n",
    "        # Map composite input channels to 3 channels expected by segformer\n",
    "        self.input_adapter = nn.Conv2d(composite_in_channels, 3, kernel_size=1)\n",
    "        self.base_model = base_model\n",
    "\n",
    "    def forward(self, x):\n",
    "        x = self.input_adapter(x)\n",
    "        outputs = self.base_model(pixel_values=x, return_dict=True)\n",
    "        # Upsample logits to match input resolution\n",
    "        logits = F.interpolate(outputs[\"logits\"], size=x.shape[-2:], mode=\"bilinear\", align_corners=False)\n",
    "        return logits\n",
    "\n",
    "def dice_coef_loss(predictions, ground_truths, num_classes=4, dims=(1, 2), smooth=1e-8):\n",
    "    ground_truth_oh = F.one_hot(ground_truths, num_classes=num_classes)\n",
    "    prediction_norm = F.softmax(predictions, dim=1).permute(0, 2, 3, 1)\n",
    "    intersection = (prediction_norm * ground_truth_oh).sum(dim=dims)\n",
    "    summation = prediction_norm.sum(dim=dims) + ground_truth_oh.sum(dim=dims)\n",
    "    dice = (2.0 * intersection + smooth) / (summation + smooth)\n",
    "    dice_mean = dice.mean()\n",
    "    CE = F.cross_entropy(predictions, ground_truths)\n",
    "    return (1.0 - dice_mean) + CE\n",
    "\n",
    "def differentiable_top2(similarity, tau=1.0):\n",
    "    weights1 = F.gumbel_softmax(similarity, tau=tau, hard=True)\n",
    "    B, N = similarity.shape\n",
    "    masked_similarity = similarity.clone()\n",
    "    indices = weights1.argmax(dim=-1, keepdim=True)\n",
    "    for i in range(B):\n",
    "        masked_similarity[i, indices[i]] = float('-inf')\n",
    "    weights2 = F.gumbel_softmax(masked_similarity, tau=tau, hard=True)\n",
    "    return weights1, weights2"
   ]
  },
  {
   "cell_type": "code",
   "execution_count": 3,
   "id": "24c8276a-aa52-4401-bd02-37f2c4bf246d",
   "metadata": {},
   "outputs": [
    {
     "name": "stderr",
     "output_type": "stream",
     "text": [
      "/tmp/ipykernel_3718819/524647098.py:5: FutureWarning: You are using `torch.load` with `weights_only=False` (the current default value), which uses the default pickle module implicitly. It is possible to construct malicious pickle data which will execute arbitrary code during unpickling (See https://github.com/pytorch/pytorch/blob/main/SECURITY.md#untrusted-models for more details). In a future release, the default value for `weights_only` will be flipped to `True`. This limits the functions that could be executed during unpickling. Arbitrary objects will no longer be allowed to be loaded via this mode unless they are explicitly allowlisted by the user via `torch.serialization.add_safe_globals`. We recommend you start setting `weights_only=True` for any use case where you don't have full control of the loaded file. Please open an issue on GitHub for any issues related to this experimental feature.\n",
      "  checkpoint = torch.load(ckpt_path, map_location=\"cuda:0\")\n"
     ]
    }
   ],
   "source": [
    "# ----------------------------\n",
    "# Segmentation Model Setup\n",
    "# ----------------------------\n",
    "ckpt_path = '/scratch/saahmed/projects/Image-segmentation/segmentation/lightning_logs/version_0/checkpoints/ckpt_053-vloss_0.1769_vf1_0.9259.ckpt'\n",
    "checkpoint = torch.load(ckpt_path, map_location=\"cuda:0\")\n",
    "state_dict = checkpoint[\"state_dict\"]\n",
    "new_state_dict = {key.replace(\"model.\", \"\"): value for key, value in state_dict.items()}\n",
    "config = SegformerForSemanticSegmentation.config_class.from_pretrained(\"nvidia/segformer-b4-finetuned-ade-512-512\")\n",
    "config.num_labels = 4\n",
    "segformer_base = SegformerForSemanticSegmentation(config)\n",
    "segformer_base.load_state_dict(new_state_dict)\n",
    "segmentation_model = JointSegmentationModel(segformer_base, composite_in_channels=11)\n"
   ]
  },
  {
   "cell_type": "code",
   "execution_count": 4,
   "id": "7ecc5596-140e-4a29-be44-c082549f1e6e",
   "metadata": {},
   "outputs": [
    {
     "name": "stderr",
     "output_type": "stream",
     "text": [
      "/tmp/ipykernel_3718819/2775795213.py:37: FutureWarning: You are using `torch.load` with `weights_only=False` (the current default value), which uses the default pickle module implicitly. It is possible to construct malicious pickle data which will execute arbitrary code during unpickling (See https://github.com/pytorch/pytorch/blob/main/SECURITY.md#untrusted-models for more details). In a future release, the default value for `weights_only` will be flipped to `True`. This limits the functions that could be executed during unpickling. Arbitrary objects will no longer be allowed to be loaded via this mode unless they are explicitly allowlisted by the user via `torch.serialization.add_safe_globals`. We recommend you start setting `weights_only=True` for any use case where you don't have full control of the loaded file. Please open an issue on GitHub for any issues related to this experimental feature.\n",
      "  projection_state_dict = torch.load(os.path.join(retrieval_checkpoint, 'projection_head.pth'), map_location=torch.device('cpu'))\n"
     ]
    },
    {
     "data": {
      "text/plain": [
       "<All keys matched successfully>"
      ]
     },
     "execution_count": 4,
     "metadata": {},
     "output_type": "execute_result"
    }
   ],
   "source": [
    "# ----------------------------\n",
    "# Model Definitions\n",
    "# ----------------------------\n",
    "\n",
    "class SimCLR(nn.Module):\n",
    "    def __init__(self, dropout_p=0.5, embedding_size=128, freeze=False, linear_eval=False):\n",
    "        super().__init__()\n",
    "        self.linear_eval = linear_eval\n",
    "        self.dropout_p = dropout_p\n",
    "        self.embedding_size = embedding_size\n",
    "        self.encoder = Dinov2Model.from_pretrained('microsoft/rad-dino')\n",
    "        \n",
    "        if freeze:\n",
    "            for param in self.encoder.parameters():\n",
    "                param.requires_grad = False\n",
    "\n",
    "        self.projection = nn.Sequential(\n",
    "            nn.Linear(768, 256),\n",
    "            nn.Dropout(p=self.dropout_p),\n",
    "            nn.ReLU(),\n",
    "            nn.Linear(256, embedding_size)\n",
    "        )\n",
    "\n",
    "    def forward(self, x):\n",
    "        if not self.linear_eval:\n",
    "            x = torch.cat(x, dim=0)\n",
    "        outputs = self.encoder(x)\n",
    "        encoding = outputs.last_hidden_state[:, 0]\n",
    "        projection = self.projection(encoding)\n",
    "        return projection\n",
    "\n",
    "retrieval_checkpoint = '/home/saahmed/scratch/projects/Image-segmentation/retrieval/checkpoints/simclr_rad-dino_pos-pairs_aug-pairs_epochs100/best_model/'\n",
    "\n",
    "retrieval_model = SimCLR(dropout_p=0.3, embedding_size=128, freeze=False, linear_eval=True)\n",
    "encoder_state_dict = load_file(os.path.join(retrieval_checkpoint, 'model.safetensors'))\n",
    "retrieval_model.encoder.load_state_dict(encoder_state_dict)\n",
    "projection_state_dict = torch.load(os.path.join(retrieval_checkpoint, 'projection_head.pth'), map_location=torch.device('cpu'))\n",
    "retrieval_model.projection.load_state_dict(projection_state_dict)"
   ]
  },
  {
   "cell_type": "code",
   "execution_count": 5,
   "id": "e5fbac3b-2db1-4fe0-bee5-816684444639",
   "metadata": {},
   "outputs": [],
   "source": [
    "class JointTrainingModule(nn.Module):\n",
    "    def __init__(self, retrieval_model, segmentation_model, num_classes=4, lr=1e-4):\n",
    "        super().__init__()\n",
    "        self.retrieval_model = retrieval_model\n",
    "        self.segmentation_model = segmentation_model\n",
    "        self.lr = lr\n",
    "        self.num_classes = num_classes\n",
    "\n",
    "    def forward(self, query_image, gallery_images, gallery_masks):\n",
    "        # Compute query embedding\n",
    "        query_embedding = self.retrieval_model(query_image)\n",
    "        B, N, C, H, W = gallery_images.shape\n",
    "        gallery_images_flat = gallery_images.view(B * N, C, H, W)\n",
    "\n",
    "        gallery_embeddings_list = []\n",
    "        \n",
    "        def compute_embedding(x):\n",
    "            return self.retrieval_model(x)\n",
    "        \n",
    "        print('Calculating Embeddings')\n",
    "        start_time = time.time()\n",
    "        tempbatch_size = 70\n",
    "        for i in range(0, B * N, tempbatch_size):\n",
    "            batch = gallery_images_flat[i:i + tempbatch_size]\n",
    "            emb = torch_checkpoint(compute_embedding, batch, use_reentrant=False)\n",
    "            # emb = self.retrieval_model(batch)\n",
    "            gallery_embeddings_list.append(emb)\n",
    "        print('Finished Calculating Embeddings')\n",
    "        \n",
    "        gallery_embeddings_flat = torch.cat(gallery_embeddings_list, dim=0)\n",
    "        emb_dim = gallery_embeddings_flat.shape[1]\n",
    "        gallery_embeddings = gallery_embeddings_flat.view(B, N, emb_dim)\n",
    "        end_time = time.time()\n",
    "        print(f\"Calculating Embeddings Time: {end_time - start_time:.4f} seconds\\n\")\n",
    "\n",
    "\n",
    "        \n",
    "        print('Calculating similarity')\n",
    "        start_time = time.time()\n",
    "        similarity = F.cosine_similarity(query_embedding.unsqueeze(1), gallery_embeddings, dim=-1)\n",
    "        end_time = time.time()\n",
    "        print('Finished Calculating similarity')\n",
    "        print(f\"Calculating similarity Time: {end_time - start_time:.4f} seconds\\n\")\n",
    "        \n",
    "\n",
    "        print('Calculating differentiable top2')\n",
    "        start_time = time.time()\n",
    "        weights1, weights2 = differentiable_top2(similarity, tau=1.0)\n",
    "        end_time = time.time()\n",
    "        print('Finished Calculating differentiable top2')\n",
    "        print(f\"Calculating differentiable top2 Time: {end_time - start_time:.4f} seconds\\n\")\n",
    "        \n",
    "\n",
    "        print('Calculating einsum')\n",
    "        start_time = time.time()\n",
    "        guide_image1 = torch.einsum('bn,bnchw->bchw', weights1, gallery_images)\n",
    "        guide_image2 = torch.einsum('bn,bnchw->bchw', weights2, gallery_images)\n",
    "        guide_mask1 = torch.einsum('bn,bnhw->bhw', weights1, gallery_masks.float())\n",
    "        guide_mask2 = torch.einsum('bn,bnhw->bhw', weights2, gallery_masks.float())\n",
    "        end_time = time.time()\n",
    "        print('Finished Calculating einsum')\n",
    "        print(f\"Calculating einsum Time: {end_time - start_time:.4f} seconds\\n\")\n",
    "        return guide_image1, guide_image2, guide_mask1, guide_mask2"
   ]
  },
  {
   "cell_type": "code",
   "execution_count": null,
   "id": "25d6fd44-ad96-44b3-9a4a-59b94f7e0070",
   "metadata": {},
   "outputs": [],
   "source": [
    "# Load the checkpoint\n",
    "device = torch.device(\"cuda\" if torch.cuda.is_available() else \"cpu\")\n",
    "checkpoint = torch.load(\"../../../best_checkpoint_epoch_1.pth\", map_location=device)\n",
    "\n",
    "# Recreate your model architecture (if not already available)\n",
    "joint_module = JointTrainingModule(retrieval_model, segmentation_model, num_classes=4, lr=1e-4)\n",
    "joint_module.load_state_dict(checkpoint[\"model_state_dict\"])\n",
    "joint_module.to(device)\n",
    "joint_module.eval()"
   ]
  },
  {
   "cell_type": "code",
   "execution_count": 7,
   "id": "e44ba40b-2565-44e9-aa69-c14f2968174a",
   "metadata": {},
   "outputs": [],
   "source": [
    "def convert_to_rgb(img):\n",
    "    return img.convert(\"RGB\")\n",
    "    \n",
    "preprocess = transforms.Compose([\n",
    "    transforms.Resize((256, 256)),\n",
    "    transforms.Lambda(convert_to_rgb),\n",
    "    transforms.ToTensor(),\n",
    "])\n",
    "\n",
    "def remap_labels(target, mapping={0: 0, 85: 1, 170: 2, 255: 3}):\n",
    "    remapped_target = torch.zeros_like(target, dtype=torch.long)\n",
    "    for original_label, new_label in mapping.items():\n",
    "        remapped_target[target == original_label] = new_label\n",
    "    return remapped_target"
   ]
  },
  {
   "cell_type": "code",
   "execution_count": 12,
   "id": "b663106d-1f07-456c-b8ac-f533bfde4e0f",
   "metadata": {},
   "outputs": [],
   "source": [
    "all_images_path_ed = \"../datasets/ACDC/processed_data/Training/ed/images/\"\n",
    "all_images_path_es = \"../datasets/ACDC/processed_data/Training/es/images/\"\n",
    "\n",
    "all_masks_path_ed = \"../datasets/ACDC/processed_data/Training/ed/masks/\"\n",
    "all_masks_path_es = \"../datasets/ACDC/processed_data/Training/es/masks/\"\n",
    "\n",
    "all_images_paths_ed = sorted([all_images_path_ed+i for i in os.listdir(all_images_path_ed)])\n",
    "all_images_paths_es = sorted([all_images_path_es+i for i in os.listdir(all_images_path_es)])\n",
    "\n",
    "all_masks_paths_ed = sorted([all_masks_path_ed+i for i in os.listdir(all_masks_path_ed)])\n",
    "all_masks_paths_es = sorted([all_masks_path_es+i for i in os.listdir(all_masks_path_es)])"
   ]
  },
  {
   "cell_type": "code",
   "execution_count": 13,
   "id": "68a1c493-7443-4e93-be55-06f063d863cf",
   "metadata": {},
   "outputs": [],
   "source": [
    "all_images_paths = all_images_paths_ed + all_images_paths_es\n",
    "all_masks_paths = all_masks_paths_ed + all_masks_paths_es"
   ]
  },
  {
   "cell_type": "code",
   "execution_count": 17,
   "id": "ac7a2c20-bc69-4919-acc1-c5ef379edda9",
   "metadata": {},
   "outputs": [],
   "source": [
    "def is_mask_empty(mask):\n",
    "    return np.all(mask == 255)"
   ]
  },
  {
   "cell_type": "code",
   "execution_count": 18,
   "id": "cc6d195d-8662-47cc-b018-a6940a81b3b1",
   "metadata": {},
   "outputs": [
    {
     "name": "stderr",
     "output_type": "stream",
     "text": [
      "100%|████████████████████████████████████████████████████████████████████████████████████████████████████████| 1902/1902 [00:07<00:00, 249.55it/s]\n"
     ]
    }
   ],
   "source": [
    "valid_images = []\n",
    "valid_masks = []\n",
    "for img_path, mask_path in tqdm(zip(all_images_paths, all_masks_paths), total=len(all_images_paths)):\n",
    "    if not os.path.exists(mask_path):\n",
    "        continue\n",
    "    mask = cv2.imread(mask_path, cv2.IMREAD_GRAYSCALE)\n",
    "    if mask is None:\n",
    "        continue\n",
    "    if is_mask_empty(mask):\n",
    "        continue\n",
    "    valid_images.append(img_path)\n",
    "    valid_masks.append(mask_path)"
   ]
  },
  {
   "cell_type": "code",
   "execution_count": 20,
   "id": "03dec167-dff9-4fcb-8df9-27da5c786358",
   "metadata": {},
   "outputs": [
    {
     "data": {
      "text/plain": [
       "1841"
      ]
     },
     "execution_count": 20,
     "metadata": {},
     "output_type": "execute_result"
    }
   ],
   "source": [
    "len(valid_images)"
   ]
  },
  {
   "cell_type": "code",
   "execution_count": 40,
   "id": "973ac922-c4ad-4177-b897-1d3c9124ad31",
   "metadata": {},
   "outputs": [
    {
     "name": "stderr",
     "output_type": "stream",
     "text": [
      "100%|█████████████████████████████████████████████████████████████████████████████████████████████████████████| 1841/1841 [00:30<00:00, 60.34it/s]\n"
     ]
    }
   ],
   "source": [
    "embeddings_calc = []\n",
    "for img in tqdm(valid_images):\n",
    "    img_ = Image.open(img)\n",
    "    img_tensor = preprocess(img_)\n",
    "    with torch.no_grad():  # Disables gradient calculation, reducing memory usage\n",
    "        img_embedding = joint_module.retrieval_model(img_tensor.unsqueeze(0).to(device))\n",
    "    embeddings_calc.append(img_embedding.cpu().numpy()) \n",
    "    torch.cuda.empty_cache()"
   ]
  },
  {
   "cell_type": "code",
   "execution_count": 135,
   "id": "ca4346a3-5763-4767-b217-cb4e62712d13",
   "metadata": {},
   "outputs": [],
   "source": [
    "query_image_path = all_images_paths[400]\n",
    "query_img = Image.open(query_image_path)\n",
    "query_tensor = preprocess(query_img)  # using your defined preprocess transform\n",
    "with torch.no_grad():\n",
    "    query_embedding = joint_module.retrieval_model(query_tensor.unsqueeze(0).to(device))"
   ]
  },
  {
   "cell_type": "code",
   "execution_count": 136,
   "id": "77fec569-765e-40df-9f6b-39b2987b344a",
   "metadata": {},
   "outputs": [],
   "source": [
    "from sklearn.metrics.pairwise import cosine_similarity"
   ]
  },
  {
   "cell_type": "code",
   "execution_count": 137,
   "id": "2348ef16-f569-46a4-932c-d07aec0d33f5",
   "metadata": {},
   "outputs": [
    {
     "name": "stdout",
     "output_type": "stream",
     "text": [
      "Most similar image: ../datasets/ACDC/processed_data/Training/ed/images/patient043_frame01_slice_1.png\n",
      "Most similar image: ../datasets/ACDC/processed_data/Training/ed/images/patient043_frame01_slice_0.png\n",
      "Most similar image: ../datasets/ACDC/processed_data/Training/es/images/patient043_frame07_slice_2.png\n",
      "Most similar image: ../datasets/ACDC/processed_data/Training/es/images/patient043_frame07_slice_0.png\n",
      "Most similar image: ../datasets/ACDC/processed_data/Training/ed/images/patient043_frame01_slice_2.png\n"
     ]
    }
   ],
   "source": [
    "query_embedding = query_embedding.cpu().numpy()  # Convert to numpy array\n",
    "\n",
    "# Compute cosine similarity between the query embedding and each image embedding\n",
    "similarities = cosine_similarity(query_embedding, np.vstack(embeddings_calc))\n",
    "\n",
    "# Get the indices of the most similar images\n",
    "most_similar_indices = np.argsort(similarities[0])[::-1]  # Sort in descending order\n",
    "\n",
    "# If you want the top N most similar images\n",
    "top_n = 5  # Specify how many top similar images you want\n",
    "top_n_similar_images = [valid_images[idx] for idx in most_similar_indices[:top_n]]\n",
    "\n",
    "# Display the most similar images\n",
    "for img_path in top_n_similar_images:\n",
    "    print(f\"Most similar image: {img_path}\")"
   ]
  },
  {
   "cell_type": "code",
   "execution_count": 138,
   "id": "66acb4db-0ad5-4ece-b9a5-0ada6c84ba5d",
   "metadata": {},
   "outputs": [
    {
     "data": {
      "image/png": "[encoded data removed]",
      "text/plain": [
       "<PIL.PngImagePlugin.PngImageFile image mode=L size=224x174>"
      ]
     },
     "execution_count": 138,
     "metadata": {},
     "output_type": "execute_result"
    }
   ],
   "source": [
    "Image.open(query_image_path)"
   ]
  },
  {
   "cell_type": "code",
   "execution_count": 139,
   "id": "005ced88-8a94-4f7b-9836-28fddf6a5d6a",
   "metadata": {},
   "outputs": [
    {
     "data": {
      "image/png": "[encoded data removed]",
      "text/plain": [
       "<PIL.PngImagePlugin.PngImageFile image mode=L size=224x174>"
      ]
     },
     "execution_count": 139,
     "metadata": {},
     "output_type": "execute_result"
    }
   ],
   "source": [
    "Image.open(top_n_similar_images[0])"
   ]
  },
  {
   "cell_type": "code",
   "execution_count": 140,
   "id": "e30c864f-54b1-4569-948d-340a8bb3558f",
   "metadata": {},
   "outputs": [
    {
     "data": {
      "image/png": "[encoded data removed]",
      "text/plain": [
       "<PIL.PngImagePlugin.PngImageFile image mode=L size=224x174>"
      ]
     },
     "execution_count": 140,
     "metadata": {},
     "output_type": "execute_result"
    }
   ],
   "source": [
    "Image.open(top_n_similar_images[1])"
   ]
  },
  {
   "cell_type": "code",
   "execution_count": 141,
   "id": "46ab4f6a-1503-44f5-ad5f-72b5803de6ad",
   "metadata": {},
   "outputs": [],
   "source": [
    "similar_images_tensors = []\n",
    "for path in top_n_similar_images[:2]:\n",
    "    img = Image.open(path)\n",
    "    similar_images_tensors.append(preprocess(img))\n",
    "similar_images_tensors = torch.stack(similar_images_tensors, dim=0)  # shape: (N, 3, H, W)\n",
    "\n",
    "\n",
    "top_n_similar_images_masks = [valid_masks[idx] for idx in most_similar_indices[:top_n]]\n",
    "\n",
    "mask_tensors = []\n",
    "for path in top_n_similar_images_masks[:2]:\n",
    "    mask = Image.open(path).convert('L')  # assume grayscale masks\n",
    "    mask = mask.resize((256, 256), resample=Image.NEAREST)\n",
    "    mask_tensor = torch.from_numpy(np.array(mask)).long()\n",
    "    mask_tensor = remap_labels(mask_tensor)  # using your remap_labels function\n",
    "    mask_tensors.append(mask_tensor)\n",
    "mask_tensors = torch.stack(mask_tensors, dim=0)  # shape: (N, H, W)\n"
   ]
  },
  {
   "cell_type": "code",
   "execution_count": 142,
   "id": "f973625d-b256-4487-ba71-5ae8bd015923",
   "metadata": {},
   "outputs": [],
   "source": [
    "g1 = similar_images_tensors[0].unsqueeze(0)\n",
    "g1 = similar_images_tensors[0].unsqueeze(0)\n",
    "\n",
    "g_m1 = mask_tensors[0].unsqueeze(0)  \n",
    "g_m2 = mask_tensors[0].unsqueeze(0) "
   ]
  },
  {
   "cell_type": "code",
   "execution_count": 146,
   "id": "e13884cc-7f97-4c47-a14e-c5b47db234c1",
   "metadata": {},
   "outputs": [],
   "source": [
    "with torch.no_grad():\n",
    "    # guide_image1, guide_image2, guide_mask1, guide_mask2 = joint_module(query_image, gallery_images, gallery_masks)\n",
    "    composite_input = torch.cat([\n",
    "        query_image.to(device),\n",
    "        g1.to(device),\n",
    "        g2.to(device),\n",
    "        g_m1.unsqueeze(1).to(device),\n",
    "        g_m2.unsqueeze(1).to(device),\n",
    "    ], dim=1)\n",
    "    \n",
    "    pred_masks = segmentation_model(composite_input)\n",
    "    pred_masks = torch.argmax(pred_masks, dim=1, keepdim=False)\n",
    "    pred_masks = pred_masks.cpu().numpy()"
   ]
  },
  {
   "cell_type": "code",
   "execution_count": 144,
   "id": "c3d0434e-a955-41d8-a807-4c2672e20f6c",
   "metadata": {},
   "outputs": [
    {
     "data": {
      "image/png": "[encoded data removed]",
      "text/plain": [
       "<Figure size 640x480 with 1 Axes>"
      ]
     },
     "metadata": {},
     "output_type": "display_data"
    }
   ],
   "source": [
    "import matplotlib.pyplot as plt\n",
    "\n",
    "# Assuming pred_masks is already a NumPy array of shape (256, 256)\n",
    "plt.imshow(pred_masks.squeeze(0), cmap='gray')\n",
    "plt.axis(False)\n",
    "plt.show()\n"
   ]
  },
  {
   "cell_type": "code",
   "execution_count": 145,
   "id": "61360a72-1e04-43e5-8d11-d1c8d4b8dfd6",
   "metadata": {},
   "outputs": [
    {
     "data": {
      "image/png": "[encoded data removed]",
      "text/plain": [
       "<PIL.PngImagePlugin.PngImageFile image mode=L size=224x174>"
      ]
     },
     "execution_count": 145,
     "metadata": {},
     "output_type": "execute_result"
    }
   ],
   "source": [
    "Image.open(valid_masks[valid_images.index(query_image_path)])"
   ]
  },
  {
   "cell_type": "code",
   "execution_count": null,
   "id": "aef379bc-eb75-4133-a060-07c9a9dec5da",
   "metadata": {},
   "outputs": [],
   "source": []
  }
 ],
 "metadata": {
  "kernelspec": {
   "display_name": "Python 3 (ipykernel)",
   "language": "python",
   "name": "python3"
  },
  "language_info": {
   "codemirror_mode": {
    "name": "ipython",
    "version": 3
   },
   "file_extension": ".py",
   "mimetype": "text/x-python",
   "name": "python",
   "nbconvert_exporter": "python",
   "pygments_lexer": "ipython3",
   "version": "3.12.4"
  }
 },
 "nbformat": 4,
 "nbformat_minor": 5
}
